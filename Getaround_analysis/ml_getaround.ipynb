{
 "cells": [
  {
   "cell_type": "code",
   "execution_count": 4,
   "metadata": {},
   "outputs": [],
   "source": [
    "import pandas as pd\n",
    "import numpy as np\n",
    "\n",
    "from sklearn.model_selection import train_test_split\n",
    "from sklearn.ensemble import RandomForestRegressor\n",
    "from sklearn.preprocessing import StandardScaler\n",
    "from sklearn.metrics import mean_absolute_error, mean_squared_error, r2_score\n",
    "\n",
    "import seaborn as sns\n",
    "import matplotlib.pyplot as plt\n",
    "\n",
    "import pickle"
   ]
  },
  {
   "cell_type": "code",
   "execution_count": null,
   "metadata": {},
   "outputs": [
    {
     "name": "stdout",
     "output_type": "stream",
     "text": [
      "R² sul set di addestramento: 0.7256996205863784\n",
      "R² sul set di test: 0.6896071366420938\n",
      "Erreur absolue moyenne (MAE): 12.48 €\n",
      "Erreur quadratique moyenne (RMSE): 18.08 €\n",
      "Modèle et scaler sauvegardés avec succès!\n"
     ]
    }
   ],
   "source": [
    "import pandas as pd\n",
    "from sklearn.model_selection import train_test_split\n",
    "from sklearn.preprocessing import StandardScaler\n",
    "from xgboost import XGBRegressor\n",
    "from sklearn.metrics import r2_score\n",
    "\n",
    "df = pd.read_csv(\"get_around_pricing_project.csv\")\n",
    "\n",
    "# Conversione des colonne booleane en numerique\n",
    "bool_cols = ['private_parking_available', 'has_gps', 'has_air_conditioning', 'automatic_car', 'has_getaround_connect', 'has_speed_regulator', 'winter_tires']\n",
    "for col in bool_cols:\n",
    "    df[col] = df[col].astype(int)\n",
    "\n",
    "# Features et target\n",
    "X = df[['mileage', 'engine_power', 'private_parking_available', 'has_gps', 'has_air_conditioning', 'automatic_car', 'has_getaround_connect', 'has_speed_regulator', 'winter_tires']]\n",
    "y = df['rental_price_per_day']\n",
    "\n",
    "# split\n",
    "X_train, X_test, y_train, y_test = train_test_split(X, y, test_size=0.2, random_state=42)\n",
    "\n",
    "# Scaling des features\n",
    "scaler = StandardScaler()\n",
    "X_train_scaled = scaler.fit_transform(X_train)\n",
    "X_test_scaled = scaler.transform(X_test)\n",
    "\n",
    "# Creation et entrainement du model XGBoost\n",
    "xgb_model = XGBRegressor(n_estimators=100, learning_rate=0.1, max_depth=3, random_state=42)\n",
    "xgb_model.fit(X_train_scaled, y_train)\n",
    "\n",
    "# Prediction\n",
    "y_pred_train = xgb_model.predict(X_train_scaled)\n",
    "y_pred_test = xgb_model.predict(X_test_scaled)\n",
    "\n",
    "print(\"R² sul set di addestramento:\", r2_score(y_train, y_pred_train))\n",
    "print(\"R² sul set di test:\", r2_score(y_test, y_pred_test))\n",
    "\n",
    "# Évaluation du modèle\n",
    "y_pred = xgb_model.predict(X_test_scaled)\n",
    "mae = mean_absolute_error(y_test, y_pred)\n",
    "rmse = np.sqrt(mean_squared_error(y_test, y_pred))\n",
    "r2 = r2_score(y_test, y_pred)\n",
    "\n",
    "print(f\"Erreur absolue moyenne (MAE): {mae:.2f} €\")\n",
    "print(f\"Erreur quadratique moyenne (RMSE): {rmse:.2f} €\")\n",
    "\n",
    "# Sauvegarde du modèle et du scaler\n",
    "with open('modele_prix.pkl', 'wb') as f:\n",
    "    pickle.dump(xgb_model, f)\n",
    "with open('scaler.pkl', 'wb') as f:\n",
    "    pickle.dump(scaler, f)\n",
    "\n",
    "print(\"Modèle et scaler sauvegardés avec succès!\")\n"
   ]
  },
  {
   "cell_type": "code",
   "execution_count": 6,
   "metadata": {},
   "outputs": [
    {
     "name": "stdout",
     "output_type": "stream",
     "text": [
      "Erreur absolue moyenne (MAE): 12.48 €\n",
      "Erreur quadratique moyenne (RMSE): 18.08 €\n",
      "R²: 0.6896\n"
     ]
    }
   ],
   "source": [
    "# Évaluation du modèle\n",
    "y_pred = xgb_model.predict(X_test_scaled)\n",
    "mae = mean_absolute_error(y_test, y_pred_test)\n",
    "rmse = np.sqrt(mean_squared_error(y_test, y_pred_test))\n",
    "r2 = r2_score(y_test, y_pred_test)\n",
    "\n",
    "print(f\"Erreur absolue moyenne (MAE): {mae:.2f} €\")\n",
    "print(f\"Erreur quadratique moyenne (RMSE): {rmse:.2f} €\")\n",
    "print(f\"R²: {r2:.4f}\")"
   ]
  },
  {
   "cell_type": "code",
   "execution_count": 3,
   "metadata": {},
   "outputs": [
    {
     "name": "stdout",
     "output_type": "stream",
     "text": [
      "Fitting 3 folds for each of 6561 candidates, totalling 19683 fits\n",
      "Migliori iperparametri: {'colsample_bytree': 0.7, 'gamma': 0.1, 'learning_rate': 0.05, 'max_depth': 5, 'n_estimators': 100, 'reg_alpha': 0.1, 'reg_lambda': 1, 'subsample': 0.8}\n",
      "R² sul set di test: 0.6842004999387941\n"
     ]
    }
   ],
   "source": [
    "from sklearn.model_selection import train_test_split, GridSearchCV\n",
    "from sklearn.preprocessing import StandardScaler\n",
    "from xgboost import XGBRegressor\n",
    "\n",
    "# Caricamento e preparazione dei dati\n",
    "df = pd.read_csv(\"get_around_pricing_project.csv\")\n",
    "bool_cols = ['private_parking_available', 'has_gps', 'has_air_conditioning', 'automatic_car', 'has_getaround_connect', 'has_speed_regulator', 'winter_tires']\n",
    "for col in bool_cols:\n",
    "    df[col] = df[col].astype(int)\n",
    "\n",
    "X = df[['mileage', 'engine_power', 'private_parking_available', 'has_gps', 'has_air_conditioning', 'automatic_car', 'has_getaround_connect', 'has_speed_regulator', 'winter_tires']]\n",
    "y = df['rental_price_per_day']\n",
    "\n",
    "# Divisione in set di training e test\n",
    "X_train, X_test, y_train, y_test = train_test_split(X, y, test_size=0.2, random_state=42)\n",
    "\n",
    "# Scaling delle features\n",
    "scaler = StandardScaler()\n",
    "X_train_scaled = scaler.fit_transform(X_train)\n",
    "X_test_scaled = scaler.transform(X_test)\n",
    "\n",
    "# Definizione della griglia di iperparametri\n",
    "param_grid = {\n",
    "    'n_estimators': [100, 200, 300],\n",
    "    'learning_rate': [0.01, 0.05, 0.1],\n",
    "    'max_depth': [3, 4, 5],\n",
    "    'subsample': [0.7, 0.8, 0.9],\n",
    "    'colsample_bytree': [0.7, 0.8, 0.9],\n",
    "    'gamma': [0, 0.1, 0.2],\n",
    "    'reg_alpha': [0, 0.1, 0.2],\n",
    "    'reg_lambda': [1, 1.1, 1.2]\n",
    "}\n",
    "\n",
    "# Creazione del modello XGBoost\n",
    "xgb_model = XGBRegressor(random_state=42)\n",
    "\n",
    "# Ricerca degli iperparametri con cross-validation\n",
    "grid_search = GridSearchCV(estimator=xgb_model,\n",
    "                           param_grid=param_grid,\n",
    "                           scoring='r2',\n",
    "                           cv=3,  # Aumentato a 3 per una stima più robusta\n",
    "                           verbose=1,\n",
    "                           n_jobs=-1)  # Usa tutti i core del processore\n",
    "\n",
    "# Esecuzione della ricerca\n",
    "grid_search.fit(X_train_scaled, y_train)\n",
    "\n",
    "# Migliori iperparametri\n",
    "print(\"Migliori iperparametri:\", grid_search.best_params_)\n",
    "\n",
    "# Miglior modello\n",
    "best_xgb_model = grid_search.best_estimator_\n",
    "\n",
    "# Valutazione del modello sul set di test\n",
    "r2_test = best_xgb_model.score(X_test_scaled, y_test)\n",
    "print(\"R² sul set di test:\", r2_test)"
   ]
  },
  {
   "cell_type": "code",
   "execution_count": 2,
   "metadata": {},
   "outputs": [],
   "source": [
    "df = pd.read_csv(r\"C:\\Users\\pietr\\OneDrive\\Desktop\\FullStack\\GetAround\\get_around_pricing_project.csv\", encoding=\"utf_8\")"
   ]
  },
  {
   "cell_type": "code",
   "execution_count": 2,
   "metadata": {},
   "outputs": [
    {
     "name": "stdout",
     "output_type": "stream",
     "text": [
      "R² sul set di addestramento: 0.7594854632192553\n",
      "R² sul set di test: 0.6842004999387941\n"
     ]
    }
   ],
   "source": [
    "from sklearn.model_selection import train_test_split\n",
    "from sklearn.preprocessing import StandardScaler\n",
    "from xgboost import XGBRegressor\n",
    "from sklearn.metrics import r2_score\n",
    "\n",
    "\n",
    "# Caricamento e preparazione dei dati\n",
    "df = pd.read_csv(\"get_around_pricing_project.csv\")\n",
    "\n",
    "# Conversione delle colonne booleane in numeriche\n",
    "bool_cols = ['private_parking_available', 'has_gps', 'has_air_conditioning', 'automatic_car', 'has_getaround_connect', 'has_speed_regulator', 'winter_tires']\n",
    "for col in bool_cols:\n",
    "    df[col] = df[col].astype(int)\n",
    "\n",
    "# Definizione delle features e del target\n",
    "X = df[['mileage', 'engine_power', 'private_parking_available', 'has_gps', 'has_air_conditioning', 'automatic_car', 'has_getaround_connect', 'has_speed_regulator', 'winter_tires']]\n",
    "y = df['rental_price_per_day']\n",
    "\n",
    "# Divisione in set di training e test\n",
    "X_train, X_test, y_train, y_test = train_test_split(X, y, test_size=0.2, random_state=42)\n",
    "\n",
    "# Scaling delle features\n",
    "scaler = StandardScaler()\n",
    "X_train_scaled = scaler.fit_transform(X_train)\n",
    "X_test_scaled = scaler.transform(X_test)\n",
    "# Creazione e addestramento del modello XGBoost\n",
    "xgb_model = XGBRegressor(colsample_bytree=0.7, gamma=0.1, n_estimators=100, learning_rate=0.05, max_depth=5, reg_alpha=0.1, subsample=0.8, random_state=42)\n",
    "xgb_model.fit(X_train_scaled, y_train)\n",
    "\n",
    "# Valutazione del modello\n",
    "y_pred_train = xgb_model.predict(X_train_scaled)\n",
    "y_pred_test = xgb_model.predict(X_test_scaled)\n",
    "\n",
    "print(\"R² sul set di addestramento:\", r2_score(y_train, y_pred_train))\n",
    "print(\"R² sul set di test:\", r2_score(y_test, y_pred_test))"
   ]
  },
  {
   "cell_type": "code",
   "execution_count": 3,
   "metadata": {},
   "outputs": [
    {
     "name": "stdout",
     "output_type": "stream",
     "text": [
      "Erreur absolue moyenne (MAE): 12.42 €\n",
      "Erreur quadratique moyenne (RMSE): 18.24 €\n",
      "R²: 0.6842\n"
     ]
    }
   ],
   "source": [
    "# Évaluation du modèle\n",
    "y_pred = xgb_model.predict(X_test_scaled)\n",
    "mae = mean_absolute_error(y_test, y_pred)\n",
    "rmse = np.sqrt(mean_squared_error(y_test, y_pred))\n",
    "r2 = r2_score(y_test, y_pred)\n",
    "\n",
    "print(f\"Erreur absolue moyenne (MAE): {mae:.2f} €\")\n",
    "print(f\"Erreur quadratique moyenne (RMSE): {rmse:.2f} €\")\n",
    "print(f\"R²: {r2:.4f}\")"
   ]
  },
  {
   "cell_type": "code",
   "execution_count": 3,
   "metadata": {},
   "outputs": [
    {
     "data": {
      "text/html": [
       "<div>\n",
       "<style scoped>\n",
       "    .dataframe tbody tr th:only-of-type {\n",
       "        vertical-align: middle;\n",
       "    }\n",
       "\n",
       "    .dataframe tbody tr th {\n",
       "        vertical-align: top;\n",
       "    }\n",
       "\n",
       "    .dataframe thead th {\n",
       "        text-align: right;\n",
       "    }\n",
       "</style>\n",
       "<table border=\"1\" class=\"dataframe\">\n",
       "  <thead>\n",
       "    <tr style=\"text-align: right;\">\n",
       "      <th></th>\n",
       "      <th>Unnamed: 0</th>\n",
       "      <th>model_key</th>\n",
       "      <th>mileage</th>\n",
       "      <th>engine_power</th>\n",
       "      <th>fuel</th>\n",
       "      <th>paint_color</th>\n",
       "      <th>car_type</th>\n",
       "      <th>private_parking_available</th>\n",
       "      <th>has_gps</th>\n",
       "      <th>has_air_conditioning</th>\n",
       "      <th>automatic_car</th>\n",
       "      <th>has_getaround_connect</th>\n",
       "      <th>has_speed_regulator</th>\n",
       "      <th>winter_tires</th>\n",
       "      <th>rental_price_per_day</th>\n",
       "    </tr>\n",
       "  </thead>\n",
       "  <tbody>\n",
       "    <tr>\n",
       "      <th>0</th>\n",
       "      <td>0</td>\n",
       "      <td>Citroën</td>\n",
       "      <td>140411</td>\n",
       "      <td>100</td>\n",
       "      <td>diesel</td>\n",
       "      <td>black</td>\n",
       "      <td>convertible</td>\n",
       "      <td>True</td>\n",
       "      <td>True</td>\n",
       "      <td>False</td>\n",
       "      <td>False</td>\n",
       "      <td>True</td>\n",
       "      <td>True</td>\n",
       "      <td>True</td>\n",
       "      <td>106</td>\n",
       "    </tr>\n",
       "    <tr>\n",
       "      <th>1</th>\n",
       "      <td>1</td>\n",
       "      <td>Citroën</td>\n",
       "      <td>13929</td>\n",
       "      <td>317</td>\n",
       "      <td>petrol</td>\n",
       "      <td>grey</td>\n",
       "      <td>convertible</td>\n",
       "      <td>True</td>\n",
       "      <td>True</td>\n",
       "      <td>False</td>\n",
       "      <td>False</td>\n",
       "      <td>False</td>\n",
       "      <td>True</td>\n",
       "      <td>True</td>\n",
       "      <td>264</td>\n",
       "    </tr>\n",
       "    <tr>\n",
       "      <th>2</th>\n",
       "      <td>2</td>\n",
       "      <td>Citroën</td>\n",
       "      <td>183297</td>\n",
       "      <td>120</td>\n",
       "      <td>diesel</td>\n",
       "      <td>white</td>\n",
       "      <td>convertible</td>\n",
       "      <td>False</td>\n",
       "      <td>False</td>\n",
       "      <td>False</td>\n",
       "      <td>False</td>\n",
       "      <td>True</td>\n",
       "      <td>False</td>\n",
       "      <td>True</td>\n",
       "      <td>101</td>\n",
       "    </tr>\n",
       "    <tr>\n",
       "      <th>3</th>\n",
       "      <td>3</td>\n",
       "      <td>Citroën</td>\n",
       "      <td>128035</td>\n",
       "      <td>135</td>\n",
       "      <td>diesel</td>\n",
       "      <td>red</td>\n",
       "      <td>convertible</td>\n",
       "      <td>True</td>\n",
       "      <td>True</td>\n",
       "      <td>False</td>\n",
       "      <td>False</td>\n",
       "      <td>True</td>\n",
       "      <td>True</td>\n",
       "      <td>True</td>\n",
       "      <td>158</td>\n",
       "    </tr>\n",
       "    <tr>\n",
       "      <th>4</th>\n",
       "      <td>4</td>\n",
       "      <td>Citroën</td>\n",
       "      <td>97097</td>\n",
       "      <td>160</td>\n",
       "      <td>diesel</td>\n",
       "      <td>silver</td>\n",
       "      <td>convertible</td>\n",
       "      <td>True</td>\n",
       "      <td>True</td>\n",
       "      <td>False</td>\n",
       "      <td>False</td>\n",
       "      <td>False</td>\n",
       "      <td>True</td>\n",
       "      <td>True</td>\n",
       "      <td>183</td>\n",
       "    </tr>\n",
       "  </tbody>\n",
       "</table>\n",
       "</div>"
      ],
      "text/plain": [
       "   Unnamed: 0 model_key  mileage  engine_power    fuel paint_color  \\\n",
       "0           0   Citroën   140411           100  diesel       black   \n",
       "1           1   Citroën    13929           317  petrol        grey   \n",
       "2           2   Citroën   183297           120  diesel       white   \n",
       "3           3   Citroën   128035           135  diesel         red   \n",
       "4           4   Citroën    97097           160  diesel      silver   \n",
       "\n",
       "      car_type  private_parking_available  has_gps  has_air_conditioning  \\\n",
       "0  convertible                       True     True                 False   \n",
       "1  convertible                       True     True                 False   \n",
       "2  convertible                      False    False                 False   \n",
       "3  convertible                       True     True                 False   \n",
       "4  convertible                       True     True                 False   \n",
       "\n",
       "   automatic_car  has_getaround_connect  has_speed_regulator  winter_tires  \\\n",
       "0          False                   True                 True          True   \n",
       "1          False                  False                 True          True   \n",
       "2          False                   True                False          True   \n",
       "3          False                   True                 True          True   \n",
       "4          False                  False                 True          True   \n",
       "\n",
       "   rental_price_per_day  \n",
       "0                   106  \n",
       "1                   264  \n",
       "2                   101  \n",
       "3                   158  \n",
       "4                   183  "
      ]
     },
     "execution_count": 3,
     "metadata": {},
     "output_type": "execute_result"
    }
   ],
   "source": [
    "df.head()"
   ]
  },
  {
   "cell_type": "code",
   "execution_count": 4,
   "metadata": {},
   "outputs": [
    {
     "name": "stdout",
     "output_type": "stream",
     "text": [
      "model_key\n",
      "Alfa Romeo     157.666667\n",
      "Audi           130.538023\n",
      "BMW            117.432890\n",
      "Citroën        108.764706\n",
      "Ferrari        150.515152\n",
      "Fiat            93.000000\n",
      "Ford           111.000000\n",
      "Honda          145.000000\n",
      "KIA Motors     159.000000\n",
      "Lamborghini    157.500000\n",
      "Lexus          193.000000\n",
      "Maserati       188.666667\n",
      "Mazda           67.000000\n",
      "Mercedes       121.360825\n",
      "Mini           204.000000\n",
      "Mitsubishi     170.675325\n",
      "Nissan         111.130909\n",
      "Opel           155.575758\n",
      "PGO            126.090909\n",
      "Peugeot        104.917445\n",
      "Porsche        144.666667\n",
      "Renault        120.609170\n",
      "SEAT           181.239130\n",
      "Subaru         182.340909\n",
      "Suzuki         223.875000\n",
      "Toyota         149.792453\n",
      "Volkswagen     134.123077\n",
      "Yamaha         133.000000\n",
      "Name: rental_price_per_day, dtype: float64\n"
     ]
    }
   ],
   "source": [
    "# Moyen de prix pour chaque model \n",
    "prix_moyen_model = df.groupby('model_key')['rental_price_per_day'].mean()\n",
    "\n",
    "print(prix_moyen_model)"
   ]
  },
  {
   "cell_type": "code",
   "execution_count": 5,
   "metadata": {},
   "outputs": [
    {
     "data": {
      "text/plain": [
       "Index(['Unnamed: 0', 'model_key', 'mileage', 'engine_power', 'fuel',\n",
       "       'paint_color', 'car_type', 'private_parking_available', 'has_gps',\n",
       "       'has_air_conditioning', 'automatic_car', 'has_getaround_connect',\n",
       "       'has_speed_regulator', 'winter_tires', 'rental_price_per_day'],\n",
       "      dtype='object')"
      ]
     },
     "execution_count": 5,
     "metadata": {},
     "output_type": "execute_result"
    }
   ],
   "source": [
    "df.columns"
   ]
  },
  {
   "cell_type": "code",
   "execution_count": 6,
   "metadata": {},
   "outputs": [
    {
     "data": {
      "text/plain": [
       "fuel\n",
       "diesel           4641\n",
       "petrol            191\n",
       "hybrid_petrol       8\n",
       "electro             3\n",
       "Name: count, dtype: int64"
      ]
     },
     "execution_count": 6,
     "metadata": {},
     "output_type": "execute_result"
    }
   ],
   "source": [
    "df[\"fuel\"].value_counts()"
   ]
  },
  {
   "cell_type": "code",
   "execution_count": 7,
   "metadata": {},
   "outputs": [
    {
     "data": {
      "text/plain": [
       "model_key\n",
       "Citroën        969\n",
       "Renault        916\n",
       "BMW            827\n",
       "Peugeot        642\n",
       "Audi           526\n",
       "Nissan         275\n",
       "Mitsubishi     231\n",
       "Mercedes        97\n",
       "Volkswagen      65\n",
       "Toyota          53\n",
       "SEAT            46\n",
       "Subaru          44\n",
       "Opel            33\n",
       "Ferrari         33\n",
       "PGO             33\n",
       "Maserati        18\n",
       "Suzuki           8\n",
       "Porsche          6\n",
       "Ford             5\n",
       "KIA Motors       3\n",
       "Alfa Romeo       3\n",
       "Fiat             2\n",
       "Lexus            2\n",
       "Lamborghini      2\n",
       "Mini             1\n",
       "Mazda            1\n",
       "Honda            1\n",
       "Yamaha           1\n",
       "Name: count, dtype: int64"
      ]
     },
     "execution_count": 7,
     "metadata": {},
     "output_type": "execute_result"
    }
   ],
   "source": [
    "df[\"model_key\"].value_counts()"
   ]
  },
  {
   "cell_type": "code",
   "execution_count": 8,
   "metadata": {},
   "outputs": [
    {
     "data": {
      "text/plain": [
       "Unnamed: 0                   0\n",
       "model_key                    0\n",
       "mileage                      0\n",
       "engine_power                 0\n",
       "fuel                         0\n",
       "paint_color                  0\n",
       "car_type                     0\n",
       "private_parking_available    0\n",
       "has_gps                      0\n",
       "has_air_conditioning         0\n",
       "automatic_car                0\n",
       "has_getaround_connect        0\n",
       "has_speed_regulator          0\n",
       "winter_tires                 0\n",
       "rental_price_per_day         0\n",
       "dtype: int64"
      ]
     },
     "execution_count": 8,
     "metadata": {},
     "output_type": "execute_result"
    }
   ],
   "source": [
    "df.isna().sum()"
   ]
  },
  {
   "cell_type": "code",
   "execution_count": 9,
   "metadata": {},
   "outputs": [
    {
     "name": "stdout",
     "output_type": "stream",
     "text": [
      "<class 'pandas.core.frame.DataFrame'>\n",
      "RangeIndex: 4843 entries, 0 to 4842\n",
      "Data columns (total 15 columns):\n",
      " #   Column                     Non-Null Count  Dtype \n",
      "---  ------                     --------------  ----- \n",
      " 0   Unnamed: 0                 4843 non-null   int64 \n",
      " 1   model_key                  4843 non-null   object\n",
      " 2   mileage                    4843 non-null   int64 \n",
      " 3   engine_power               4843 non-null   int64 \n",
      " 4   fuel                       4843 non-null   object\n",
      " 5   paint_color                4843 non-null   object\n",
      " 6   car_type                   4843 non-null   object\n",
      " 7   private_parking_available  4843 non-null   bool  \n",
      " 8   has_gps                    4843 non-null   bool  \n",
      " 9   has_air_conditioning       4843 non-null   bool  \n",
      " 10  automatic_car              4843 non-null   bool  \n",
      " 11  has_getaround_connect      4843 non-null   bool  \n",
      " 12  has_speed_regulator        4843 non-null   bool  \n",
      " 13  winter_tires               4843 non-null   bool  \n",
      " 14  rental_price_per_day       4843 non-null   int64 \n",
      "dtypes: bool(7), int64(4), object(4)\n",
      "memory usage: 335.9+ KB\n"
     ]
    }
   ],
   "source": [
    "df.info()"
   ]
  },
  {
   "cell_type": "code",
   "execution_count": null,
   "metadata": {},
   "outputs": [
    {
     "data": {
      "image/png": "[encoded data removed]",
      "text/plain": [
       "<Figure size 1200x1000 with 2 Axes>"
      ]
     },
     "metadata": {},
     "output_type": "display_data"
    }
   ],
   "source": [
    "\"\"\"# Converti le colonne booleane in numeriche (0 e 1)\n",
    "bool_cols = ['private_parking_available', 'has_gps', 'has_air_conditioning', 'automatic_car', 'has_getaround_connect', 'has_speed_regulator', 'winter_tires']\n",
    "for col in bool_cols:\n",
    "    df[col] = df[col].astype(int)\n",
    "\n",
    "# Converti al tipo di dati numerico, gestendo gli errori\n",
    "df['mileage'] = pd.to_numeric(df['mileage'], errors='coerce')\n",
    "df['engine_power'] = pd.to_numeric(df['engine_power'], errors='coerce')\n",
    "df['rental_price_per_day'] = pd.to_numeric(df['rental_price_per_day'], errors='coerce')\n",
    "\n",
    "# Gestisci i valori mancanti\n",
    "df.dropna(inplace=True)  # Rimuovi le righe con valori mancanti\n",
    "\n",
    "# Seleziona solo le colonne numeriche\n",
    "df_numeric = df.select_dtypes(include=['number'])\n",
    "\n",
    "# Calcola la matrice di correlazione\n",
    "correlation_matrix = df_numeric.corr()\n",
    "\n",
    "# Visualizza la matrice di correlazione\n",
    "plt.figure(figsize=(12, 10))\n",
    "sns.heatmap(correlation_matrix, annot=True, cmap=\"coolwarm\", fmt=\".2f\")\n",
    "plt.title(\"Matrice di Correlazione tra Variabili Numeriche\")\n",
    "plt.show()\"\"\""
   ]
  },
  {
   "cell_type": "code",
   "execution_count": 10,
   "metadata": {},
   "outputs": [],
   "source": [
    "# Préparation des données\n",
    "# Conversion des variables catégorielles\n",
    "#donnees_prep = pd.get_dummies(df, columns=['model_key', 'fuel', 'paint_color', 'car_type'])\n",
    "\n",
    "# Sélection des caractéristiques\n",
    "caracteristiques = ['mileage', 'engine_power', 'private_parking_available', \n",
    "                   'has_gps', 'has_air_conditioning', 'automatic_car', \n",
    "                   'has_getaround_connect', 'has_speed_regulator', 'winter_tires']\n",
    "# Ajout des colonnes one-hot encodées\n",
    "\"\"\"for col in donnees_prep.columns:\n",
    "    if col.startswith('model_key_') or col.startswith('fuel_') or col.startswith('paint_color_') or col.startswith('car_type_'):\n",
    "        caracteristiques.append(col)\n",
    "\n",
    "# Définition des variables X et y\n",
    "X = donnees_prep[caracteristiques]\n",
    "y = donnees_prep['rental_price_per_day']\"\"\"\n",
    "\n",
    "# Définition des variables X et y\n",
    "X = df[caracteristiques]\n",
    "y = df['rental_price_per_day']"
   ]
  },
  {
   "cell_type": "code",
   "execution_count": 11,
   "metadata": {},
   "outputs": [],
   "source": [
    "# Division en ensembles d'entraînement et de test\n",
    "X_train, X_test, y_train, y_test = train_test_split(X, y, test_size=0.2, random_state=42)"
   ]
  },
  {
   "cell_type": "code",
   "execution_count": 12,
   "metadata": {},
   "outputs": [],
   "source": [
    "# Normalisation des données\n",
    "scaler = StandardScaler()\n",
    "X_train_scaled = scaler.fit_transform(X_train)\n",
    "X_test_scaled = scaler.transform(X_test)"
   ]
  },
  {
   "cell_type": "code",
   "execution_count": 52,
   "metadata": {},
   "outputs": [
    {
     "name": "stdout",
     "output_type": "stream",
     "text": [
      "Entraînement du modèle...\n"
     ]
    },
    {
     "data": {
      "text/html": [
       "<style>#sk-container-id-11 {color: black;background-color: white;}#sk-container-id-11 pre{padding: 0;}#sk-container-id-11 div.sk-toggleable {background-color: white;}#sk-container-id-11 label.sk-toggleable__label {cursor: pointer;display: block;width: 100%;margin-bottom: 0;padding: 0.3em;box-sizing: border-box;text-align: center;}#sk-container-id-11 label.sk-toggleable__label-arrow:before {content: \"▸\";float: left;margin-right: 0.25em;color: #696969;}#sk-container-id-11 label.sk-toggleable__label-arrow:hover:before {color: black;}#sk-container-id-11 div.sk-estimator:hover label.sk-toggleable__label-arrow:before {color: black;}#sk-container-id-11 div.sk-toggleable__content {max-height: 0;max-width: 0;overflow: hidden;text-align: left;background-color: #f0f8ff;}#sk-container-id-11 div.sk-toggleable__content pre {margin: 0.2em;color: black;border-radius: 0.25em;background-color: #f0f8ff;}#sk-container-id-11 input.sk-toggleable__control:checked~div.sk-toggleable__content {max-height: 200px;max-width: 100%;overflow: auto;}#sk-container-id-11 input.sk-toggleable__control:checked~label.sk-toggleable__label-arrow:before {content: \"▾\";}#sk-container-id-11 div.sk-estimator input.sk-toggleable__control:checked~label.sk-toggleable__label {background-color: #d4ebff;}#sk-container-id-11 div.sk-label input.sk-toggleable__control:checked~label.sk-toggleable__label {background-color: #d4ebff;}#sk-container-id-11 input.sk-hidden--visually {border: 0;clip: rect(1px 1px 1px 1px);clip: rect(1px, 1px, 1px, 1px);height: 1px;margin: -1px;overflow: hidden;padding: 0;position: absolute;width: 1px;}#sk-container-id-11 div.sk-estimator {font-family: monospace;background-color: #f0f8ff;border: 1px dotted black;border-radius: 0.25em;box-sizing: border-box;margin-bottom: 0.5em;}#sk-container-id-11 div.sk-estimator:hover {background-color: #d4ebff;}#sk-container-id-11 div.sk-parallel-item::after {content: \"\";width: 100%;border-bottom: 1px solid gray;flex-grow: 1;}#sk-container-id-11 div.sk-label:hover label.sk-toggleable__label {background-color: #d4ebff;}#sk-container-id-11 div.sk-serial::before {content: \"\";position: absolute;border-left: 1px solid gray;box-sizing: border-box;top: 0;bottom: 0;left: 50%;z-index: 0;}#sk-container-id-11 div.sk-serial {display: flex;flex-direction: column;align-items: center;background-color: white;padding-right: 0.2em;padding-left: 0.2em;position: relative;}#sk-container-id-11 div.sk-item {position: relative;z-index: 1;}#sk-container-id-11 div.sk-parallel {display: flex;align-items: stretch;justify-content: center;background-color: white;position: relative;}#sk-container-id-11 div.sk-item::before, #sk-container-id-11 div.sk-parallel-item::before {content: \"\";position: absolute;border-left: 1px solid gray;box-sizing: border-box;top: 0;bottom: 0;left: 50%;z-index: -1;}#sk-container-id-11 div.sk-parallel-item {display: flex;flex-direction: column;z-index: 1;position: relative;background-color: white;}#sk-container-id-11 div.sk-parallel-item:first-child::after {align-self: flex-end;width: 50%;}#sk-container-id-11 div.sk-parallel-item:last-child::after {align-self: flex-start;width: 50%;}#sk-container-id-11 div.sk-parallel-item:only-child::after {width: 0;}#sk-container-id-11 div.sk-dashed-wrapped {border: 1px dashed gray;margin: 0 0.4em 0.5em 0.4em;box-sizing: border-box;padding-bottom: 0.4em;background-color: white;}#sk-container-id-11 div.sk-label label {font-family: monospace;font-weight: bold;display: inline-block;line-height: 1.2em;}#sk-container-id-11 div.sk-label-container {text-align: center;}#sk-container-id-11 div.sk-container {/* jupyter's `normalize.less` sets `[hidden] { display: none; }` but bootstrap.min.css set `[hidden] { display: none !important; }` so we also need the `!important` here to be able to override the default hidden behavior on the sphinx rendered scikit-learn.org. See: https://github.com/scikit-learn/scikit-learn/issues/21755 */display: inline-block !important;position: relative;}#sk-container-id-11 div.sk-text-repr-fallback {display: none;}</style><div id=\"sk-container-id-11\" class=\"sk-top-container\"><div class=\"sk-text-repr-fallback\"><pre>RandomForestRegressor(max_depth=20, max_features=5, min_samples_split=25,\n",
       "                      random_state=42)</pre><b>In a Jupyter environment, please rerun this cell to show the HTML representation or trust the notebook. <br />On GitHub, the HTML representation is unable to render, please try loading this page with nbviewer.org.</b></div><div class=\"sk-container\" hidden><div class=\"sk-item\"><div class=\"sk-estimator sk-toggleable\"><input class=\"sk-toggleable__control sk-hidden--visually\" id=\"sk-estimator-id-11\" type=\"checkbox\" checked><label for=\"sk-estimator-id-11\" class=\"sk-toggleable__label sk-toggleable__label-arrow\">RandomForestRegressor</label><div class=\"sk-toggleable__content\"><pre>RandomForestRegressor(max_depth=20, max_features=5, min_samples_split=25,\n",
       "                      random_state=42)</pre></div></div></div></div></div>"
      ],
      "text/plain": [
       "RandomForestRegressor(max_depth=20, max_features=5, min_samples_split=25,\n",
       "                      random_state=42)"
      ]
     },
     "execution_count": 52,
     "metadata": {},
     "output_type": "execute_result"
    }
   ],
   "source": [
    "# Entraînement du modèle\n",
    "print(\"Entraînement du modèle...\")\n",
    "modele = RandomForestRegressor(n_estimators=100, max_depth=20, min_samples_split=25,max_features=5, random_state=42)\n",
    "modele.fit(X_train_scaled, y_train)"
   ]
  },
  {
   "cell_type": "code",
   "execution_count": 53,
   "metadata": {},
   "outputs": [
    {
     "name": "stdout",
     "output_type": "stream",
     "text": [
      "Erreur absolue moyenne (MAE): 12.49 €\n",
      "Erreur quadratique moyenne (RMSE): 18.33 €\n",
      "R²: 0.6809\n"
     ]
    }
   ],
   "source": [
    "# Évaluation du modèle\n",
    "y_pred = modele.predict(X_test_scaled)\n",
    "mae = mean_absolute_error(y_test, y_pred)\n",
    "rmse = np.sqrt(mean_squared_error(y_test, y_pred))\n",
    "r2 = r2_score(y_test, y_pred)\n",
    "\n",
    "print(f\"Erreur absolue moyenne (MAE): {mae:.2f} €\")\n",
    "print(f\"Erreur quadratique moyenne (RMSE): {rmse:.2f} €\")\n",
    "print(f\"R²: {r2:.4f}\")"
   ]
  },
  {
   "cell_type": "code",
   "execution_count": 54,
   "metadata": {},
   "outputs": [
    {
     "data": {
      "text/plain": [
       "0.6808695167259641"
      ]
     },
     "execution_count": 54,
     "metadata": {},
     "output_type": "execute_result"
    }
   ],
   "source": [
    "r2_score(y_test, y_pred)"
   ]
  },
  {
   "cell_type": "code",
   "execution_count": 55,
   "metadata": {},
   "outputs": [
    {
     "name": "stdout",
     "output_type": "stream",
     "text": [
      "R² sul set di addestramento: 0.7788\n",
      "R² sul set di test: 0.6809\n"
     ]
    }
   ],
   "source": [
    "# 5. Calcolo dell'R² sui set di addestramento e test\n",
    "y_train_pred = modele.predict(X_train_scaled)  # predizioni sul set di addestramento\n",
    "y_test_pred = modele.predict(X_test_scaled)   # predizioni sul set di test\n",
    "\n",
    "r2_train = r2_score(y_train, y_train_pred)\n",
    "r2_test = r2_score(y_test, y_test_pred)\n",
    "\n",
    "print(f\"R² sul set di addestramento: {r2_train:.4f}\")\n",
    "print(f\"R² sul set di test: {r2_test:.4f}\")"
   ]
  },
  {
   "cell_type": "code",
   "execution_count": 23,
   "metadata": {},
   "outputs": [
    {
     "data": {
      "image/png": "[encoded data removed]",
      "text/plain": [
       "<Figure size 1000x600 with 1 Axes>"
      ]
     },
     "metadata": {},
     "output_type": "display_data"
    },
    {
     "name": "stdout",
     "output_type": "stream",
     "text": [
      "                     feature  importance\n",
      "1               engine_power    0.467764\n",
      "0                    mileage    0.307475\n",
      "5              automatic_car    0.088627\n",
      "3                    has_gps    0.055006\n",
      "6      has_getaround_connect    0.046167\n",
      "2  private_parking_available    0.011419\n",
      "4       has_air_conditioning    0.009536\n",
      "8               winter_tires    0.008270\n",
      "7        has_speed_regulator    0.005735\n"
     ]
    }
   ],
   "source": [
    "# Assumendo che il tuo modello si chiami 'model' e X contenga i nomi delle features\n",
    "feature_importance = modele.feature_importances_\n",
    "feature_names = X.columns\n",
    "\n",
    "# Crea un DataFrame con le importanze delle features\n",
    "feature_importance_df = pd.DataFrame({'feature': feature_names, 'importance': feature_importance})\n",
    "\n",
    "# Ordina il DataFrame per importanza decrescente\n",
    "feature_importance_df = feature_importance_df.sort_values('importance', ascending=False)\n",
    "\n",
    "# Visualizza le importanze delle features\n",
    "plt.figure(figsize=(10, 6))\n",
    "plt.bar(feature_importance_df['feature'], feature_importance_df['importance'])\n",
    "plt.xticks(rotation=90)\n",
    "plt.xlabel('Features')\n",
    "plt.ylabel('Importance')\n",
    "plt.title('Feature Importance in Random Forest Model')\n",
    "plt.tight_layout()\n",
    "plt.show()\n",
    "\n",
    "# Stampa le importanze delle features\n",
    "print(feature_importance_df)"
   ]
  },
  {
   "cell_type": "code",
   "execution_count": null,
   "metadata": {},
   "outputs": [],
   "source": []
  }
 ],
 "metadata": {
  "kernelspec": {
   "display_name": "base",
   "language": "python",
   "name": "python3"
  },
  "language_info": {
   "codemirror_mode": {
    "name": "ipython",
    "version": 3
   },
   "file_extension": ".py",
   "mimetype": "text/x-python",
   "name": "python",
   "nbconvert_exporter": "python",
   "pygments_lexer": "ipython3",
   "version": "3.11.7"
  }
 },
 "nbformat": 4,
 "nbformat_minor": 2
}
